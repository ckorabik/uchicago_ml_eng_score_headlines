{
 "cells": [
  {
   "cell_type": "markdown",
   "id": "d262a6f6-38a4-4b99-a336-a46aad38575e",
   "metadata": {},
   "source": [
    "# Sentiment model"
   ]
  },
  {
   "cell_type": "code",
   "execution_count": 1,
   "id": "0a9ab614-3a7f-4b2d-bdbb-53e894389245",
   "metadata": {},
   "outputs": [],
   "source": [
    "# conda create --name nlp python=3.10\n",
    "# pip install -U sentence-transformers\n",
    "# python -m ipykernel install --user name=nlp"
   ]
  },
  {
   "cell_type": "code",
   "execution_count": 2,
   "id": "832e48e6-600c-4af7-b1b3-04fa66a57dad",
   "metadata": {},
   "outputs": [],
   "source": [
    "import numpy as np\n",
    "from sentence_transformers import SentenceTransformer"
   ]
  },
  {
   "cell_type": "markdown",
   "id": "e10dbfe7-47b4-4255-88f8-b247e4855b35",
   "metadata": {},
   "source": [
    "### Read headlines"
   ]
  },
  {
   "cell_type": "code",
   "execution_count": 5,
   "id": "a6024bef-1085-4e7b-b70d-449c2936e521",
   "metadata": {},
   "outputs": [
    {
     "name": "stdout",
     "output_type": "stream",
     "text": [
      "['IHSA state football playoffs: See who won the championship games, from 8A to 1A\\n', 'Chicago’s winter parking ban goes into effect Sunday. Here’s what to know, snow or no snow.\\n', 'Matt Eberflus’ Chicago Bears timeline: 32 losses, multiple coach firings and too many late-game missteps\\n', '10 best books of 2024: The surprising reads that stuck\\n', 'Asking-Eric\\n']\n"
     ]
    }
   ],
   "source": [
    "with open('../data/headlines_chicagotribune_2024-12-01.txt', 'r') as file:\n",
    "    headlines = file.readlines()\n",
    "    print(headlines[:5])"
   ]
  },
  {
   "cell_type": "markdown",
   "id": "808a1b3b-fa70-4b64-a034-c8400aa61bca",
   "metadata": {},
   "source": [
    "### Score headlines"
   ]
  },
  {
   "cell_type": "code",
   "execution_count": 6,
   "id": "8999e2fe-62f8-45dd-8015-aefe68393af7",
   "metadata": {},
   "outputs": [
    {
     "name": "stderr",
     "output_type": "stream",
     "text": [
      "/home/chris/miniconda3/envs/ml_engineering/lib/python3.12/site-packages/torch/cuda/__init__.py:174: UserWarning: CUDA initialization: The NVIDIA driver on your system is too old (found version 11040). Please update your GPU driver by downloading and installing a new version from the URL: http://www.nvidia.com/Download/index.aspx Alternatively, go to: https://pytorch.org to install a PyTorch version that has been compiled with your version of the CUDA driver. (Triggered internally at /pytorch/c10/cuda/CUDAFunctions.cpp:109.)\n",
      "  return torch._C._cuda_getDeviceCount() > 0\n"
     ]
    },
    {
     "name": "stdout",
     "output_type": "stream",
     "text": [
      "CPU times: user 673 ms, sys: 52.7 ms, total: 725 ms\n",
      "Wall time: 2.94 s\n"
     ]
    }
   ],
   "source": [
    "%%time\n",
    "model = SentenceTransformer(\"all-MiniLM-L6-v2\")"
   ]
  },
  {
   "cell_type": "code",
   "execution_count": 7,
   "id": "c71f7cc9-52c6-42bb-96c1-45a65f9f2ede",
   "metadata": {},
   "outputs": [
    {
     "name": "stdout",
     "output_type": "stream",
     "text": [
      "CPU times: user 1.4 s, sys: 52.3 ms, total: 1.46 s\n",
      "Wall time: 251 ms\n"
     ]
    }
   ],
   "source": [
    "%%time\n",
    "embeddings = model.encode(headlines)"
   ]
  },
  {
   "cell_type": "code",
   "execution_count": 8,
   "id": "0c78fce9-1c7e-4e83-81c9-a36734bfbdc7",
   "metadata": {},
   "outputs": [
    {
     "data": {
      "text/plain": [
       "(86, 384)"
      ]
     },
     "execution_count": 8,
     "metadata": {},
     "output_type": "execute_result"
    }
   ],
   "source": [
    "embeddings.shape"
   ]
  },
  {
   "cell_type": "code",
   "execution_count": 9,
   "id": "bf58c5ac-1ad4-4aff-a213-f6900e816af4",
   "metadata": {},
   "outputs": [
    {
     "data": {
      "text/plain": [
       "array([-0.08039872,  0.02565198,  0.01842793,  0.01511148, -0.0334178 ,\n",
       "        0.00264897,  0.0302121 ,  0.02179785,  0.05236981,  0.05477027,\n",
       "       -0.07041448, -0.01769685,  0.06148232, -0.02037148, -0.06859641,\n",
       "        0.02244037,  0.01022858, -0.09040188,  0.00618231, -0.11392137,\n",
       "        0.05397778, -0.02198165, -0.07340643,  0.01023918,  0.11231688,\n",
       "        0.03612855, -0.02802587,  0.03255611, -0.04808801, -0.03066321,\n",
       "       -0.00124499, -0.12335139,  0.06839586, -0.0471328 ,  0.01972231,\n",
       "       -0.06453743,  0.07108447, -0.04286589,  0.01165373,  0.06278831,\n",
       "       -0.04844404,  0.01182599,  0.08480302, -0.00465211, -0.04965928,\n",
       "       -0.02966073, -0.09079038,  0.01200453,  0.00284582,  0.09196208],\n",
       "      dtype=float32)"
      ]
     },
     "execution_count": 9,
     "metadata": {},
     "output_type": "execute_result"
    }
   ],
   "source": [
    "embeddings[0][:50]"
   ]
  },
  {
   "cell_type": "code",
   "execution_count": 10,
   "id": "d6472de1-a319-4a33-80e8-d5c86c8d975b",
   "metadata": {},
   "outputs": [],
   "source": [
    "#embeddings.tofile('headlines_chicagotribune_2024-12-01.npy') # this doesn't save the dimensions??? :("
   ]
  },
  {
   "cell_type": "code",
   "execution_count": 11,
   "id": "16976cd8-b6f0-4425-a351-7312f1bd1d47",
   "metadata": {},
   "outputs": [],
   "source": [
    "np.save('headlines_chicagotribune_2024-12-01.npy', embeddings)"
   ]
  },
  {
   "cell_type": "code",
   "execution_count": null,
   "id": "8b203aa3-3024-4dc0-8b40-5e5b01709f4b",
   "metadata": {},
   "outputs": [],
   "source": []
  }
 ],
 "metadata": {
  "kernelspec": {
   "display_name": "ml_engineering",
   "language": "python",
   "name": "python3"
  },
  "language_info": {
   "codemirror_mode": {
    "name": "ipython",
    "version": 3
   },
   "file_extension": ".py",
   "mimetype": "text/x-python",
   "name": "python",
   "nbconvert_exporter": "python",
   "pygments_lexer": "ipython3",
   "version": "3.12.3"
  }
 },
 "nbformat": 4,
 "nbformat_minor": 5
}
