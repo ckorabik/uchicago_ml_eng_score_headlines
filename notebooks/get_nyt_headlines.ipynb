{
 "cells": [
  {
   "cell_type": "markdown",
   "id": "da283a2e-c95a-4700-abac-b21b5f7e6021",
   "metadata": {},
   "source": [
    "# Scrape NYT"
   ]
  },
  {
   "cell_type": "markdown",
   "id": "4a8ed946-9020-4485-b57a-89b03a5ba9fd",
   "metadata": {},
   "source": [
    "### Sample HTML tag"
   ]
  },
  {
   "cell_type": "markdown",
   "id": "f059ff79-9ded-458f-86a9-ef76a8a51d7c",
   "metadata": {},
   "source": [
    "```html\n",
    "<section class=\"story-wrapper\"><a class=\"css-9mylee\" href=\"https://www.nytimes.com/2024/12/01/us/politics/biden-hunter-pardon-politics.html\" data-uri=\"nyt://article/dffb88f6-058f-5e6f-8a61-6b4c08e420e4\" aria-hidden=\"false\"><div><div class=\"css-xdandi\"><div class=\"css-1a3ibh4\"><p class=\"css-tdd4a3\"><span class=\"css-wt2ynm\">Analysis</span></p></div><p class=\"indicate-hover css-91bpc3\">In Pardoning His Son, Biden Echoes Some of Trump’s Complaints</p></div><p class=\"summary-class css-1l5zmz6\">President Biden and President-elect Trump now agree on one thing: The Biden Justice Department has been politicized.</p><div class=\"css-1tic89u\"><div><p class=\"css-1a0ymrn\" data-ttr=\"1\">7 min read</p></div></div></div></a></section>\n",
    "```"
   ]
  },
  {
   "cell_type": "markdown",
   "id": "7dd03908-a216-4c39-a803-78d548320362",
   "metadata": {},
   "source": [
    "Notice that we need to extract the headline, as well as the summary"
   ]
  },
  {
   "cell_type": "markdown",
   "id": "a37cc2ef-ccd3-4a9c-bf23-97498a5dc4aa",
   "metadata": {},
   "source": [
    "### Code\n",
    "(you may have to install BeautifulSoup)"
   ]
  },
  {
   "cell_type": "code",
   "execution_count": 1,
   "id": "c426c27c-6fa5-44a9-b27b-1a807e48a413",
   "metadata": {},
   "outputs": [],
   "source": [
    "from bs4 import BeautifulSoup"
   ]
  },
  {
   "cell_type": "code",
   "execution_count": 2,
   "id": "6c6af93e-7949-4929-873d-f6237403ee30",
   "metadata": {},
   "outputs": [],
   "source": [
    "html_element = \"\"\"<section class=\"story-wrapper\"><a class=\"css-9mylee\" href=\"https://www.nytimes.com/2024/12/01/us/politics/biden-hunter-pardon-politics.html\" data-uri=\"nyt://article/dffb88f6-058f-5e6f-8a61-6b4c08e420e4\" aria-hidden=\"false\"><div><div class=\"css-xdandi\"><div class=\"css-1a3ibh4\"><p class=\"css-tdd4a3\"><span class=\"css-wt2ynm\">Analysis</span></p></div><p class=\"indicate-hover css-91bpc3\">In Pardoning His Son, Biden Echoes Some of Trump’s Complaints</p></div><p class=\"summary-class css-1l5zmz6\">President Biden and President-elect Trump now agree on one thing: The Biden Justice Department has been politicized.</p><div class=\"css-1tic89u\"><div><p class=\"css-1a0ymrn\" data-ttr=\"1\">7 min read</p></div></div></div></a></section>\"\"\""
   ]
  },
  {
   "cell_type": "code",
   "execution_count": 3,
   "id": "0f9a6109-35f7-431b-8bc1-7a5783bbeda2",
   "metadata": {},
   "outputs": [],
   "source": [
    "soup = BeautifulSoup(html_element, 'html.parser')"
   ]
  },
  {
   "cell_type": "code",
   "execution_count": 4,
   "id": "da125fcd-35a0-42f5-b942-1b04df214fc0",
   "metadata": {},
   "outputs": [
    {
     "data": {
      "text/plain": [
       "(<p class=\"indicate-hover css-91bpc3\">In Pardoning His Son, Biden Echoes Some of Trump’s Complaints</p>,\n",
       " <p class=\"summary-class css-1l5zmz6\">President Biden and President-elect Trump now agree on one thing: The Biden Justice Department has been politicized.</p>)"
      ]
     },
     "execution_count": 4,
     "metadata": {},
     "output_type": "execute_result"
    }
   ],
   "source": [
    "headline1 = soup.find('section', class_='story-wrapper')\n",
    "headline1.find_all('p')[1], headline1.find_all('p')[2]"
   ]
  },
  {
   "cell_type": "code",
   "execution_count": 5,
   "id": "0c8ec4ae-a642-4f7f-89b2-1e8a92dfc97c",
   "metadata": {},
   "outputs": [
    {
     "data": {
      "text/plain": [
       "'In Pardoning His Son, Biden Echoes Some of Trump’s Complaints. President Biden and President-elect Trump now agree on one thing: The Biden Justice Department has been politicized.'"
      ]
     },
     "execution_count": 5,
     "metadata": {},
     "output_type": "execute_result"
    }
   ],
   "source": [
    "title_and_summary_tag = headline1.find_all('p')\n",
    "title = title_and_summary_tag[1].text\n",
    "summary = title_and_summary_tag[2].text\n",
    "\n",
    "title_and_summary = title + \". \" + summary\n",
    "title_and_summary"
   ]
  },
  {
   "cell_type": "code",
   "execution_count": 6,
   "id": "7c7df5f3-d86d-4464-81ff-29be31d9a2a9",
   "metadata": {},
   "outputs": [],
   "source": [
    "def get_text(html_element):\n",
    "    title_and_summary_tag = html_element.find_all('p')\n",
    "\n",
    "    if len(title_and_summary_tag) == 0: return None\n",
    "    \n",
    "    if len(title_and_summary_tag) < 2: # This function is not very robust :(\n",
    "        return title_and_summary_tag[0].text\n",
    "        \n",
    "    title   = title_and_summary_tag[0].text\n",
    "    summary = title_and_summary_tag[1].text\n",
    "    \n",
    "    title_and_summary = title + \". \" + summary\n",
    "    title_and_summary\n",
    "\n",
    "    return title_and_summary"
   ]
  },
  {
   "cell_type": "code",
   "execution_count": 33,
   "id": "1ef925a2-d6ab-4102-98dd-393d607addc4",
   "metadata": {},
   "outputs": [
    {
     "data": {
      "text/plain": [
       "'Analysis. In Pardoning His Son, Biden Echoes Some of Trump’s Complaints'"
      ]
     },
     "execution_count": 33,
     "metadata": {},
     "output_type": "execute_result"
    }
   ],
   "source": [
    "get_text(headline1)"
   ]
  },
  {
   "cell_type": "markdown",
   "id": "1cd533a0-d10e-433d-bd83-6a824e32818e",
   "metadata": {},
   "source": [
    "### Find ALL headlines"
   ]
  },
  {
   "cell_type": "markdown",
   "id": "776a24d8-3a77-43ae-8387-e28b0f4663b7",
   "metadata": {},
   "source": [
    "First, we download the front-page"
   ]
  },
  {
   "cell_type": "code",
   "execution_count": 34,
   "id": "9f99d738-68f0-4962-aed5-e9127f4f5ab1",
   "metadata": {},
   "outputs": [],
   "source": [
    "import requests"
   ]
  },
  {
   "cell_type": "code",
   "execution_count": 35,
   "id": "3a4dc7e1-2ebd-458b-b4ff-6235304f2933",
   "metadata": {},
   "outputs": [
    {
     "name": "stdout",
     "output_type": "stream",
     "text": [
      "CPU times: user 33.2 ms, sys: 1.13 ms, total: 34.3 ms\n",
      "Wall time: 243 ms\n"
     ]
    }
   ],
   "source": [
    "%%time\n",
    "response = requests.get('https://www.nytimes.com/')"
   ]
  },
  {
   "cell_type": "code",
   "execution_count": 36,
   "id": "b7d4c7b1-39fc-4669-a648-d689c44759c4",
   "metadata": {},
   "outputs": [
    {
     "data": {
      "text/plain": [
       "<Response [200]>"
      ]
     },
     "execution_count": 36,
     "metadata": {},
     "output_type": "execute_result"
    }
   ],
   "source": [
    "response"
   ]
  },
  {
   "cell_type": "code",
   "execution_count": 37,
   "id": "4c089142-47f7-41d2-8e79-6aee9ca57c24",
   "metadata": {},
   "outputs": [
    {
     "name": "stdout",
     "output_type": "stream",
     "text": [
      "<!DOCTYPE html>\n",
      "<html lang=\"en\" class=\" nytapp-vi-homepage \"  data-nyt-compute-assignment=\"fallback\" xmlns:og=\"http://opengraphprotocol.org/schema/\">\n",
      "  <head>\n",
      "    \n",
      "    \n",
      "    <meta charset=\"utf-8\" />\n",
      "    <title data-rh=\"true\">The New York Times - Breaking News, US News, World News and Videos</title>\n",
      "    <meta data-rh=\"true\" name=\"description\" content=\"Live news, investigations, opinion, photos and video by the journalists of The New York Times from more than 150 countries around the world. Subscri\n"
     ]
    }
   ],
   "source": [
    "print(response.text[:500])"
   ]
  },
  {
   "cell_type": "code",
   "execution_count": 38,
   "id": "7f73c302-10aa-4021-9851-4588f33e181b",
   "metadata": {},
   "outputs": [],
   "source": [
    "html = BeautifulSoup(response.text)"
   ]
  },
  {
   "cell_type": "code",
   "execution_count": 39,
   "id": "e418f005-e44a-475b-82fa-2a6fd4c60add",
   "metadata": {},
   "outputs": [
    {
     "data": {
      "text/plain": [
       "[<div class=\"story-wrapper css-1e505by\" data-tpl=\"sli\"><div class=\"css-114aoa5\" style=\"flex-direction:column-reverse\"><div style=\"flex-grow:1\"><div class=\"css-ep7xq6\" data-tpl=\"b\"></div><div class=\"css-1wzkfo3\" data-tpl=\"slic\"><div class=\"css-12yuaq1\" data-tpl=\"la\"><div class=\"css-1vb0fst\" data-tpl=\"f\"><p class=\"css-ae0yjg\"><span class=\"css-12tlih8\">LIVE</span></p><span class=\"css-1ufpbe9\"><time class=\"css-16lxk39\" datetime=\"2025-07-07T19:54:02.987Z\"><div class=\"css-ki347z\"><span aria-hidden=\"true\" class=\"css-1stvlmo\" data-time=\"abs\">July 7, 2025, 3:54 p.m. ET</span><span class=\"css-kpxlkr\" data-time=\"rel\"></span></div></time></span></div></div><div class=\"css-cfnhvx\" data-tpl=\"h\"><a class=\"tpl-lbl css-5mgoji\" data-tpl=\"l\" href=\"https://www.nytimes.com/live/2025/07/07/us/trump-news\"><div class=\"css-xdandi\" data-tpl=\"b\"><p class=\"indicate-hover css-1ixq7yl\">Trump Threatens Japan and S. Korea With 25% Tariffs as He Presses for Deals</p></div></a></div><div class=\"css-sarx3u\" data-tpl=\"bo\"><p class=\"summary-class css-crclbt\">President Trump said the tariffs would take effect on Aug. 1 if no trade deals are reached. Markets fell sharply on the news.</p></div></div><p class=\"css-16lw6zo\"> </p></div></div></div>,\n",
       " <div class=\"story-wrapper css-1e505by\" data-tpl=\"sli\"><div class=\"css-114aoa5\" style=\"flex-direction:column-reverse\"><div style=\"flex-grow:1\"><div class=\"css-ep7xq6\" data-tpl=\"b\"></div><div class=\"css-1wzkfo3\" data-tpl=\"slic\"><div class=\"css-cfnhvx\" data-tpl=\"h\"><a class=\"tpl-lbl css-5mgoji\" data-tpl=\"l\" href=\"https://www.nytimes.com/2025/07/07/us/politics/trump-brics-nations-tariffs.html\"><div class=\"css-xdandi\" data-tpl=\"b\"><p class=\"indicate-hover css-1a5fuvt\">Trump Says BRICS-Aligned Countries Could Face Extra Tariffs</p></div></a></div><div class=\"css-dupwnw\" data-tpl=\"la\"><div class=\"css-1tic89u\"><div><p class=\"css-1a0ymrn\" data-ttr=\"1\">2 min read</p></div></div></div></div></div></div></div>,\n",
       " <div class=\"story-wrapper css-1e505by\" data-tpl=\"sli\"><div class=\"css-114aoa5\" style=\"flex-direction:column-reverse\"><div style=\"flex-grow:1\"><div class=\"css-ep7xq6\" data-tpl=\"b\"></div><div class=\"css-1wzkfo3\" data-tpl=\"slic\"><div class=\"css-12yuaq1\" data-tpl=\"la\"><div class=\"css-1vb0fst\" data-tpl=\"f\"><p class=\"css-ae0yjg\"><span class=\"css-12tlih8\">LIVE</span></p><span class=\"css-1ufpbe9\"><time class=\"css-16lxk39\" datetime=\"2025-07-07T19:46:32.705Z\"><div class=\"css-ki347z\"><span aria-hidden=\"true\" class=\"css-1stvlmo\" data-time=\"abs\">July 7, 2025, 3:46 p.m. ET</span><span class=\"css-kpxlkr\" data-time=\"rel\"></span></div></time></span></div></div><div class=\"css-cfnhvx\" data-tpl=\"h\"><a class=\"tpl-lbl css-5mgoji\" data-tpl=\"l\" href=\"https://www.nytimes.com/live/2025/07/07/us/texas-floods\"><div class=\"css-xdandi\" data-tpl=\"b\"><p class=\"indicate-hover css-91bpc3\">Death Toll Reaches 95 in Texas Floods, With 27 Killed at Summer Camp</p></div></a></div><div class=\"css-sarx3u\" data-tpl=\"bo\"><p class=\"summary-class css-1vqq9lj\">The search for survivors grew more desperate four days after one of the deadliest U.S. floods in decades. Ten campers and a counselor are still missing.</p></div></div><p class=\"css-16lw6zo\"> </p></div></div></div>,\n",
       " <div class=\"story-wrapper css-1e505by\" data-tpl=\"sli\"><div class=\"css-114aoa5\" style=\"flex-direction:column-reverse\"><div style=\"flex-grow:1\"><div class=\"css-ep7xq6\" data-tpl=\"b\"></div><div class=\"css-1wzkfo3\" data-tpl=\"slic\"><div class=\"css-cfnhvx\" data-tpl=\"h\"><a class=\"tpl-lbl css-5mgoji\" data-tpl=\"l\" href=\"https://www.nytimes.com/2025/07/06/us/texas-flood-warnings-sirens.html\"><div class=\"css-xdandi\" data-tpl=\"b\"><p class=\"indicate-hover css-1a5fuvt\">Officials Feared Flood Risk to Youth Camps but Rejected Warning System</p></div></a></div><div class=\"css-dupwnw\" data-tpl=\"la\"><div class=\"css-1tic89u\"><div><p class=\"css-1a0ymrn\" data-ttr=\"1\">7 min read</p></div></div></div></div></div></div></div>,\n",
       " <div class=\"story-wrapper css-1e505by\" data-tpl=\"sli\"><div class=\"css-114aoa5\" style=\"flex-direction:column-reverse\"><div style=\"flex-grow:1\"><div class=\"css-ep7xq6\" data-tpl=\"b\"></div><div class=\"css-1wzkfo3\" data-tpl=\"slic\"><div class=\"css-cfnhvx\" data-tpl=\"h\"><a class=\"tpl-lbl css-5mgoji\" data-tpl=\"l\" href=\"https://www.nytimes.com/interactive/2025/07/07/us/texas-flooding-map-guadalupe-river.html\"><div class=\"css-xdandi\" data-tpl=\"b\"><p class=\"indicate-hover css-1a5fuvt\">See How Fast Floodwaters Rose Along Guadalupe River</p></div></a></div></div></div></div></div>]"
      ]
     },
     "execution_count": 39,
     "metadata": {},
     "output_type": "execute_result"
    }
   ],
   "source": [
    "html.find_all(class_=\"story-wrapper\")[:5]"
   ]
  },
  {
   "cell_type": "markdown",
   "id": "97f6bbec-02f8-4192-8e7a-8f385e63ecba",
   "metadata": {},
   "source": [
    "### Extract headlines"
   ]
  },
  {
   "cell_type": "code",
   "execution_count": 40,
   "id": "75043c72-c7d8-4ce3-a25a-78505c5d7c36",
   "metadata": {},
   "outputs": [
    {
     "data": {
      "text/plain": [
       "<div class=\"story-wrapper css-1e505by\" data-tpl=\"sli\"><div class=\"css-114aoa5\" style=\"flex-direction:column-reverse\"><div style=\"flex-grow:1\"><div class=\"css-ep7xq6\" data-tpl=\"b\"></div><div class=\"css-1wzkfo3\" data-tpl=\"slic\"><div class=\"css-12yuaq1\" data-tpl=\"la\"><div class=\"css-1vb0fst\" data-tpl=\"f\"><p class=\"css-ae0yjg\"><span class=\"css-12tlih8\">LIVE</span></p><span class=\"css-1ufpbe9\"><time class=\"css-16lxk39\" datetime=\"2025-07-07T19:54:02.987Z\"><div class=\"css-ki347z\"><span aria-hidden=\"true\" class=\"css-1stvlmo\" data-time=\"abs\">July 7, 2025, 3:54 p.m. ET</span><span class=\"css-kpxlkr\" data-time=\"rel\"></span></div></time></span></div></div><div class=\"css-cfnhvx\" data-tpl=\"h\"><a class=\"tpl-lbl css-5mgoji\" data-tpl=\"l\" href=\"https://www.nytimes.com/live/2025/07/07/us/trump-news\"><div class=\"css-xdandi\" data-tpl=\"b\"><p class=\"indicate-hover css-1ixq7yl\">Trump Threatens Japan and S. Korea With 25% Tariffs as He Presses for Deals</p></div></a></div><div class=\"css-sarx3u\" data-tpl=\"bo\"><p class=\"summary-class css-crclbt\">President Trump said the tariffs would take effect on Aug. 1 if no trade deals are reached. Markets fell sharply on the news.</p></div></div><p class=\"css-16lw6zo\"> </p></div></div></div>"
      ]
     },
     "execution_count": 40,
     "metadata": {},
     "output_type": "execute_result"
    }
   ],
   "source": [
    "html.find_all(class_=\"story-wrapper\")[0]"
   ]
  },
  {
   "cell_type": "code",
   "execution_count": 41,
   "id": "85e495ab-2ff8-4239-a2f7-2f554f4a14be",
   "metadata": {},
   "outputs": [
    {
     "data": {
      "text/plain": [
       "[<p class=\"css-ae0yjg\"><span class=\"css-12tlih8\">LIVE</span></p>,\n",
       " <p class=\"indicate-hover css-1ixq7yl\">Trump Threatens Japan and S. Korea With 25% Tariffs as He Presses for Deals</p>,\n",
       " <p class=\"summary-class css-crclbt\">President Trump said the tariffs would take effect on Aug. 1 if no trade deals are reached. Markets fell sharply on the news.</p>,\n",
       " <p class=\"css-16lw6zo\"> </p>]"
      ]
     },
     "execution_count": 41,
     "metadata": {},
     "output_type": "execute_result"
    }
   ],
   "source": [
    "html.find_all(class_=\"story-wrapper\")[0].find_all('p')"
   ]
  },
  {
   "cell_type": "code",
   "execution_count": 42,
   "id": "3ff6f182-953d-42b9-b77f-6200349e4a10",
   "metadata": {},
   "outputs": [
    {
     "name": "stdout",
     "output_type": "stream",
     "text": [
      "LIVE. Trump Threatens Japan and S. Korea With 25% Tariffs as He Presses for Deals\n",
      "Trump Says BRICS-Aligned Countries Could Face Extra Tariffs. 2 min read\n",
      "LIVE. Death Toll Reaches 95 in Texas Floods, With 27 Killed at Summer Camp\n",
      "Officials Feared Flood Risk to Youth Camps but Rejected Warning System. 7 min read\n",
      "See How Fast Floodwaters Rose Along Guadalupe River\n",
      "None\n",
      "None\n",
      "None\n",
      "None\n",
      "None\n",
      "None\n",
      "North Carolina Faces Widespread Flooding After Chantal Dumps Heavy Rain. The storm flooded roads, downed trees and stranded residents across the central part of the state. It is heading northeast toward Washington, D.C.\n",
      "Tracking Post-Tropical Cyclone Chantal\n",
      "What’s at Stake as Benjamin Netanyahu and Trump Meet in Washington. President Trump is considering whether to pursue a new nuclear agreement with Tehran. He is also urging a new cease-fire deal to end the fighting in Gaza.\n",
      "Where Do Israel-Hamas Truce Negotiations Stand?. 4 min read\n"
     ]
    }
   ],
   "source": [
    "for e in html.find_all(class_=\"story-wrapper\")[:15]:\n",
    "    #print(e)\n",
    "    print(get_text(e))"
   ]
  },
  {
   "cell_type": "code",
   "execution_count": 43,
   "id": "982af19a-a5a7-4ded-a6a5-07dcf7e8018d",
   "metadata": {},
   "outputs": [],
   "source": [
    "headlines = [get_text(headline) for headline in html.find_all(class_=\"story-wrapper\")]"
   ]
  },
  {
   "cell_type": "code",
   "execution_count": 44,
   "id": "74e83048-cbdb-40cf-8bcb-a2c455f663c9",
   "metadata": {},
   "outputs": [
    {
     "data": {
      "text/plain": [
       "['LIVE. Trump Threatens Japan and S. Korea With 25% Tariffs as He Presses for Deals',\n",
       " 'Trump Says BRICS-Aligned Countries Could Face Extra Tariffs. 2 min read',\n",
       " 'LIVE. Death Toll Reaches 95 in Texas Floods, With 27 Killed at Summer Camp',\n",
       " 'Officials Feared Flood Risk to Youth Camps but Rejected Warning System. 7 min read',\n",
       " 'See How Fast Floodwaters Rose Along Guadalupe River']"
      ]
     },
     "execution_count": 44,
     "metadata": {},
     "output_type": "execute_result"
    }
   ],
   "source": [
    "headlines[:5]"
   ]
  },
  {
   "cell_type": "code",
   "execution_count": 45,
   "id": "732ed155-39bc-4cf5-b29a-e4e87650a63c",
   "metadata": {},
   "outputs": [
    {
     "data": {
      "text/plain": [
       "126"
      ]
     },
     "execution_count": 45,
     "metadata": {},
     "output_type": "execute_result"
    }
   ],
   "source": [
    "len(headlines)"
   ]
  },
  {
   "cell_type": "markdown",
   "id": "69b380bc-83af-4483-9ad6-00f09abd64ab",
   "metadata": {},
   "source": [
    "### Write headlines to file"
   ]
  },
  {
   "cell_type": "markdown",
   "id": "54eeccab-8552-4a90-9c08-c4d7b68cc106",
   "metadata": {},
   "source": [
    "#### Create the filename"
   ]
  },
  {
   "cell_type": "code",
   "execution_count": 46,
   "id": "c661cc4d-1981-4d19-ada1-1eb6fbf5912f",
   "metadata": {},
   "outputs": [],
   "source": [
    "import datetime"
   ]
  },
  {
   "cell_type": "code",
   "execution_count": 47,
   "id": "c89c4581-3115-4c89-acb0-6606de79ee5c",
   "metadata": {},
   "outputs": [
    {
     "data": {
      "text/plain": [
       "datetime.datetime(2025, 7, 7, 14, 55, 31, 766091)"
      ]
     },
     "execution_count": 47,
     "metadata": {},
     "output_type": "execute_result"
    }
   ],
   "source": [
    "datetime.datetime.today()"
   ]
  },
  {
   "cell_type": "code",
   "execution_count": 48,
   "id": "f87311ab-97b7-4136-89f2-1bee2b913abc",
   "metadata": {},
   "outputs": [
    {
     "data": {
      "text/plain": [
       "'2025-07-07'"
      ]
     },
     "execution_count": 48,
     "metadata": {},
     "output_type": "execute_result"
    }
   ],
   "source": [
    "datetime.datetime.today().strftime('%Y-%m-%d')"
   ]
  },
  {
   "cell_type": "code",
   "execution_count": 49,
   "id": "835b6aef-ecd6-4e32-a174-98129b73ed20",
   "metadata": {},
   "outputs": [],
   "source": [
    "TODAY = datetime.datetime.today().strftime('%Y-%m-%d')"
   ]
  },
  {
   "cell_type": "code",
   "execution_count": 50,
   "id": "1c719f4d-5713-4083-a724-f562dec005a8",
   "metadata": {},
   "outputs": [
    {
     "data": {
      "text/plain": [
       "'2025-07-07'"
      ]
     },
     "execution_count": 50,
     "metadata": {},
     "output_type": "execute_result"
    }
   ],
   "source": [
    "TODAY"
   ]
  },
  {
   "cell_type": "code",
   "execution_count": 53,
   "id": "b953afae-aba6-4f29-b2ec-f6509d9aaf7c",
   "metadata": {},
   "outputs": [
    {
     "data": {
      "text/plain": [
       "'../data/headlines_nyt_2025-07-07.txt'"
      ]
     },
     "execution_count": 53,
     "metadata": {},
     "output_type": "execute_result"
    }
   ],
   "source": [
    "filename = f\"../data/headlines_nyt_{TODAY}.txt\"\n",
    "filename"
   ]
  },
  {
   "cell_type": "code",
   "execution_count": 54,
   "id": "d0126d94-1c3e-4e32-a0fc-9c6b8d4eb92f",
   "metadata": {},
   "outputs": [],
   "source": [
    "with open(filename, 'w', encoding='utf-8') as output_file:\n",
    "    for headline in headlines:\n",
    "        if headline is None: continue\n",
    "        output_file.write(headline + '\\n')"
   ]
  },
  {
   "cell_type": "code",
   "execution_count": null,
   "id": "72aeeb0c-c737-4ebd-9711-057bb8568efa",
   "metadata": {},
   "outputs": [],
   "source": []
  },
  {
   "cell_type": "code",
   "execution_count": null,
   "id": "fae5d21a-0622-4ee7-83ae-b9fa133ef9a0",
   "metadata": {},
   "outputs": [],
   "source": []
  }
 ],
 "metadata": {
  "kernelspec": {
   "display_name": "ml_engineering",
   "language": "python",
   "name": "python3"
  },
  "language_info": {
   "codemirror_mode": {
    "name": "ipython",
    "version": 3
   },
   "file_extension": ".py",
   "mimetype": "text/x-python",
   "name": "python",
   "nbconvert_exporter": "python",
   "pygments_lexer": "ipython3",
   "version": "3.12.3"
  }
 },
 "nbformat": 4,
 "nbformat_minor": 5
}
